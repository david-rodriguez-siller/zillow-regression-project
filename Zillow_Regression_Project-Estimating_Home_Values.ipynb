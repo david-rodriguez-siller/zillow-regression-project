{
 "cells": [
  {
   "cell_type": "markdown",
   "id": "33052c5c",
   "metadata": {},
   "source": [
    "## Estimating Home Value\n",
    "\n",
    "by David Rodriguez 2021/12/13\n",
    "\n",
    "#### Project Goal\n",
    "\n",
    "The goal of this project is to predict assessed home values by the respective tax authority as accurately as possible based on a zillow dataset of home listings from 2017.\n",
    "\n",
    "#### Project Description\n",
    "\n",
    "Home value appraisals are a big factor in deciding which home to live in. A property's assessed tax value can be contested, but generally falls in a range assessed. That assessed value coult ultimately be a big factor on whether or not a prospective buyer purchases a home. Naturally, property taxes can be a big liability for homeowners and therefore it is an important factor that must be taken into account. Based on data from home listings from 2017, the goal of this exercise is to form a model to predict assessed home values.\n",
    "\n",
    "#### Initial Questions\n",
    "\n",
    "1. Given the information we have, what is the biggest factor of assessed taxes in homes?\n",
    "2. Does the location of the home matter?\n",
    "3. Is the total square feet of a home relevant at all in predicting assessed value?\n",
    "4. Does the number of bedrooms or bathrooms relevant?\n",
    "\n",
    "#### Data Dictionary\n",
    "\n",
    "| Variable | Description |                           |\n",
    "|:-------------------|:--------------------------------|:\n",
    "| 1. bedroom_cnt | Number of bedrooms in each home. | \n",
    "| 2. bathroom_cnt | Number of bathrooms in each home. Can be half bathrooms and there will not be rows with 0 bathrooms |\n",
    "| 3. pool_cnt | Number of pools in each home. |\n",
    "| 4. nbr_stories | Number of stories in each home. |\n",
    "| 5. assessed_tax_value | The target variable. Assessed property tax value of each home. |\n",
    "| 6. year_built | The year the home was built. |\n",
    "| 7. fips | Coding used to identify the county in which the home is located in. |\n",
    "| 8. comb_sq_ft | An amalgamation of three different columns from the Zillow database. This column is a sum of columns: basementsqft, garagetotalsqft, and calculatedfinishedsquarefeet. |\n",
    "| 9. location | A mapped fips column reflecting the name of the county of the fips code represents. |"
   ]
  },
  {
   "cell_type": "code",
   "execution_count": 1,
   "id": "a2aea1da",
   "metadata": {},
   "outputs": [],
   "source": [
    "import warnings\n",
    "warnings.filterwarnings(\"ignore\")\n",
    "\n",
    "import pandas as pd\n",
    "import numpy as np\n",
    "import matplotlib.pyplot as plt\n",
    "import seaborn as sns\n",
    "from scipy import stats\n",
    "from scipy.stats import pearsonr, spearmanr\n",
    "import sklearn.preprocessing\n",
    "import sklearn.linear_model\n",
    "import sklearn.feature_selection\n",
    "from sklearn.model_selection import train_test_split\n",
    "from sklearn.metrics import mean_squared_error\n",
    "from sklearn.feature_selection import SelectKBest, f_regression, RFE\n",
    "from sklearn.linear_model import LinearRegression, LassoLars, TweedieRegressor\n",
    "from sklearn.preprocessing import PolynomialFeatures\n",
    "import env\n",
    "import wrangle"
   ]
  },
  {
   "cell_type": "code",
   "execution_count": 2,
   "id": "f0efb24a",
   "metadata": {},
   "outputs": [
    {
     "data": {
      "text/html": [
       "<div>\n",
       "<style scoped>\n",
       "    .dataframe tbody tr th:only-of-type {\n",
       "        vertical-align: middle;\n",
       "    }\n",
       "\n",
       "    .dataframe tbody tr th {\n",
       "        vertical-align: top;\n",
       "    }\n",
       "\n",
       "    .dataframe thead th {\n",
       "        text-align: right;\n",
       "    }\n",
       "</style>\n",
       "<table border=\"1\" class=\"dataframe\">\n",
       "  <thead>\n",
       "    <tr style=\"text-align: right;\">\n",
       "      <th></th>\n",
       "      <th>bedroomcnt</th>\n",
       "      <th>bathroomcnt</th>\n",
       "      <th>basementsqft</th>\n",
       "      <th>garagetotalsqft</th>\n",
       "      <th>calculatedfinishedsquarefeet</th>\n",
       "      <th>poolcnt</th>\n",
       "      <th>numberofstories</th>\n",
       "      <th>taxvaluedollarcnt</th>\n",
       "      <th>yearbuilt</th>\n",
       "      <th>fips</th>\n",
       "    </tr>\n",
       "  </thead>\n",
       "  <tbody>\n",
       "    <tr>\n",
       "      <th>0</th>\n",
       "      <td>4.0</td>\n",
       "      <td>3.5</td>\n",
       "      <td>NaN</td>\n",
       "      <td>633.0</td>\n",
       "      <td>3100.0</td>\n",
       "      <td>NaN</td>\n",
       "      <td>NaN</td>\n",
       "      <td>1023282.0</td>\n",
       "      <td>1998.0</td>\n",
       "      <td>6059.0</td>\n",
       "    </tr>\n",
       "    <tr>\n",
       "      <th>1</th>\n",
       "      <td>2.0</td>\n",
       "      <td>1.0</td>\n",
       "      <td>NaN</td>\n",
       "      <td>0.0</td>\n",
       "      <td>1465.0</td>\n",
       "      <td>NaN</td>\n",
       "      <td>1.0</td>\n",
       "      <td>464000.0</td>\n",
       "      <td>1967.0</td>\n",
       "      <td>6111.0</td>\n",
       "    </tr>\n",
       "    <tr>\n",
       "      <th>2</th>\n",
       "      <td>3.0</td>\n",
       "      <td>2.0</td>\n",
       "      <td>NaN</td>\n",
       "      <td>440.0</td>\n",
       "      <td>1243.0</td>\n",
       "      <td>1.0</td>\n",
       "      <td>1.0</td>\n",
       "      <td>564778.0</td>\n",
       "      <td>1962.0</td>\n",
       "      <td>6059.0</td>\n",
       "    </tr>\n",
       "    <tr>\n",
       "      <th>3</th>\n",
       "      <td>4.0</td>\n",
       "      <td>3.0</td>\n",
       "      <td>NaN</td>\n",
       "      <td>NaN</td>\n",
       "      <td>2376.0</td>\n",
       "      <td>1.0</td>\n",
       "      <td>NaN</td>\n",
       "      <td>145143.0</td>\n",
       "      <td>1970.0</td>\n",
       "      <td>6037.0</td>\n",
       "    </tr>\n",
       "    <tr>\n",
       "      <th>4</th>\n",
       "      <td>4.0</td>\n",
       "      <td>3.0</td>\n",
       "      <td>NaN</td>\n",
       "      <td>NaN</td>\n",
       "      <td>2962.0</td>\n",
       "      <td>1.0</td>\n",
       "      <td>NaN</td>\n",
       "      <td>773303.0</td>\n",
       "      <td>1950.0</td>\n",
       "      <td>6037.0</td>\n",
       "    </tr>\n",
       "  </tbody>\n",
       "</table>\n",
       "</div>"
      ],
      "text/plain": [
       "   bedroomcnt  bathroomcnt  basementsqft  garagetotalsqft  \\\n",
       "0         4.0          3.5           NaN            633.0   \n",
       "1         2.0          1.0           NaN              0.0   \n",
       "2         3.0          2.0           NaN            440.0   \n",
       "3         4.0          3.0           NaN              NaN   \n",
       "4         4.0          3.0           NaN              NaN   \n",
       "\n",
       "   calculatedfinishedsquarefeet  poolcnt  numberofstories  taxvaluedollarcnt  \\\n",
       "0                        3100.0      NaN              NaN          1023282.0   \n",
       "1                        1465.0      NaN              1.0           464000.0   \n",
       "2                        1243.0      1.0              1.0           564778.0   \n",
       "3                        2376.0      1.0              NaN           145143.0   \n",
       "4                        2962.0      1.0              NaN           773303.0   \n",
       "\n",
       "   yearbuilt    fips  \n",
       "0     1998.0  6059.0  \n",
       "1     1967.0  6111.0  \n",
       "2     1962.0  6059.0  \n",
       "3     1970.0  6037.0  \n",
       "4     1950.0  6037.0  "
      ]
     },
     "execution_count": 2,
     "metadata": {},
     "output_type": "execute_result"
    }
   ],
   "source": [
    "# Acquire the dataset\n",
    "df = wrangle.zillow_data()\n",
    "df.head()"
   ]
  },
  {
   "cell_type": "code",
   "execution_count": 3,
   "id": "847d49bb",
   "metadata": {},
   "outputs": [
    {
     "name": "stdout",
     "output_type": "stream",
     "text": [
      "<class 'pandas.core.frame.DataFrame'>\n",
      "RangeIndex: 52441 entries, 0 to 52440\n",
      "Data columns (total 10 columns):\n",
      " #   Column                        Non-Null Count  Dtype  \n",
      "---  ------                        --------------  -----  \n",
      " 0   bedroomcnt                    52441 non-null  float64\n",
      " 1   bathroomcnt                   52441 non-null  float64\n",
      " 2   basementsqft                  47 non-null     float64\n",
      " 3   garagetotalsqft               18015 non-null  float64\n",
      " 4   calculatedfinishedsquarefeet  52359 non-null  float64\n",
      " 5   poolcnt                       11096 non-null  float64\n",
      " 6   numberofstories               14561 non-null  float64\n",
      " 7   taxvaluedollarcnt             52440 non-null  float64\n",
      " 8   yearbuilt                     52325 non-null  float64\n",
      " 9   fips                          52441 non-null  float64\n",
      "dtypes: float64(10)\n",
      "memory usage: 4.0 MB\n"
     ]
    }
   ],
   "source": [
    "df.info()"
   ]
  },
  {
   "cell_type": "code",
   "execution_count": 4,
   "id": "eda03f7a",
   "metadata": {},
   "outputs": [
    {
     "data": {
      "text/plain": [
       "bedroom_cnt           0\n",
       "bathroom_cnt          0\n",
       "pool_cnt              0\n",
       "nbr_stories           0\n",
       "assessed_tax_value    0\n",
       "year_built            0\n",
       "fips                  0\n",
       "comb_sq_ft            0\n",
       "location              0\n",
       "dtype: int64"
      ]
     },
     "execution_count": 4,
     "metadata": {},
     "output_type": "execute_result"
    }
   ],
   "source": [
    "# clean up the data\n",
    "\n",
    "df = wrangle.wrangle_zillow(df)\n",
    "df.isnull().sum()\n",
    "\n",
    "# the wrangle data function cleans up missing values and fills 0's/1's where applicable.\n",
    "# furthermore, outliers are also removed and homes with 0 bathrooms and combined square feet\n",
    "# less than 200 are removed\n",
    "    # the thinking on the last two points is that is unlikely for there to be homes w/o \n",
    "    # bathrooms and homes with 200 or less total square feet do not seem feasible to live in\n",
    "# finally the wrangel function maps the fips code to the respective county."
   ]
  },
  {
   "cell_type": "code",
   "execution_count": null,
   "id": "a3b37805",
   "metadata": {},
   "outputs": [],
   "source": [
    "df.info()"
   ]
  },
  {
   "cell_type": "code",
   "execution_count": null,
   "id": "bb5c011f",
   "metadata": {
    "scrolled": false
   },
   "outputs": [],
   "source": [
    "for col in df:\n",
    "    sns.displot(x = col, data = df, hue = 'location')\n",
    "    plt.title(col + ' distribution')\n",
    "    plt.show()"
   ]
  },
  {
   "cell_type": "code",
   "execution_count": null,
   "id": "d177d9b8",
   "metadata": {},
   "outputs": [],
   "source": [
    "# some quick takeaways from univariate visualization include: \n",
    "    # most houses have 3 to 4 bedrooms\n",
    "    # most houses have between 2 and 3 bathrooms\n",
    "    # most houses do not have a pool and are one story homes"
   ]
  },
  {
   "cell_type": "code",
   "execution_count": 54,
   "id": "6747dd8b",
   "metadata": {},
   "outputs": [
    {
     "data": {
      "text/plain": [
       "((28332, 11), (12593, 11), (9445, 11))"
      ]
     },
     "execution_count": 54,
     "metadata": {},
     "output_type": "execute_result"
    }
   ],
   "source": [
    "train, validate, test = wrangle.encode_split(df)\n",
    "train.shape, validate.shape, test.shape"
   ]
  },
  {
   "cell_type": "code",
   "execution_count": null,
   "id": "9f1edcc5",
   "metadata": {
    "scrolled": false
   },
   "outputs": [],
   "source": [
    "for col in df:\n",
    "    sns.lineplot(x = col, y = df['assessed_tax_value'], data = df, hue = 'location')\n",
    "    plt.title(col + ' lineplot')\n",
    "    plt.show()"
   ]
  },
  {
   "cell_type": "code",
   "execution_count": null,
   "id": "08b62734",
   "metadata": {},
   "outputs": [],
   "source": [
    "# Some more takeaways:\n",
    "    # there seems to be correlation between the number of bedrooms, bathrooms, and combined\n",
    "    # square foot"
   ]
  },
  {
   "cell_type": "code",
   "execution_count": null,
   "id": "4b1c9c1c",
   "metadata": {},
   "outputs": [],
   "source": [
    "# Let's apply some statistics to corroborate our takeaways:\n",
    "    # Bedroom count follows a somewhat normal distribution so let's try a pearsonr \n",
    "    # correlation:"
   ]
  },
  {
   "cell_type": "code",
   "execution_count": null,
   "id": "90df4d21",
   "metadata": {},
   "outputs": [],
   "source": [
    "r, p_value = pearsonr(train.assessed_tax_value, train.bedroom_cnt)\n",
    "print(f'Correlation Coefficient: {r}\\nP-value: {p_value}')"
   ]
  },
  {
   "cell_type": "code",
   "execution_count": null,
   "id": "8838c001",
   "metadata": {},
   "outputs": [],
   "source": [
    "# let's go ahead and do a correlation heatmap for the other features:\n",
    "plt.figure(figsize = (8,8))\n",
    "sns.heatmap(train.corr(method = 'spearman')[['assessed_tax_value']].sort_values(by = 'assessed_tax_value', ascending = False), square = False, annot = True, linewidth = 0.75)"
   ]
  },
  {
   "cell_type": "code",
   "execution_count": null,
   "id": "0a6a7793",
   "metadata": {},
   "outputs": [],
   "source": [
    "# As we can see, the features that correlate with our target are combined square feet,\n",
    "# bathroom count, and to a lesster degree, bedroom count, year built, and pool count.\n",
    "# since our correlation coefficient is greater than zero in the majority of the features,\n",
    "# those can be safe to implement into modeling. As we move on to modeling, let's\n",
    "# further analyze the best features using RFE when we start implementing regression\n",
    "# methodologies.\n",
    "# However, let's do an additional statistical test to check if location has an impact on\n",
    "# appraised values:"
   ]
  },
  {
   "cell_type": "code",
   "execution_count": null,
   "id": "2d72ab23",
   "metadata": {},
   "outputs": [],
   "source": [
    "df.fips.value_counts()"
   ]
  },
  {
   "cell_type": "code",
   "execution_count": null,
   "id": "c5ae2521",
   "metadata": {},
   "outputs": [],
   "source": [
    "la_assessed_value = train[df.fips == 6037.0].assessed_tax_value\n",
    "o_assessed_value = train[df.fips == 6059.0].assessed_tax_value\n",
    "v_assessed_value = train[df.fips == 6111.0].assessed_tax_value"
   ]
  },
  {
   "cell_type": "code",
   "execution_count": null,
   "id": "be74b643",
   "metadata": {},
   "outputs": [],
   "source": [
    "la_assessed_value.hist();"
   ]
  },
  {
   "cell_type": "code",
   "execution_count": null,
   "id": "a4ca5809",
   "metadata": {},
   "outputs": [],
   "source": [
    "o_assessed_value.hist();"
   ]
  },
  {
   "cell_type": "code",
   "execution_count": null,
   "id": "ac1bb8b5",
   "metadata": {},
   "outputs": [],
   "source": [
    "v_assessed_value.hist();"
   ]
  },
  {
   "cell_type": "code",
   "execution_count": null,
   "id": "6af2216d",
   "metadata": {},
   "outputs": [],
   "source": [
    "# verify assumptions\n",
    "    # independent samples - yes\n",
    "    # normal distribution - kinda\n",
    "    # equal variances:\n",
    "print(la_assessed_value.var())\n",
    "print(o_assessed_value.var())\n",
    "print(v_assessed_value.var())\n",
    "        # no equal variances so let's do a two sample test instead of anova"
   ]
  },
  {
   "cell_type": "markdown",
   "id": "fc924331",
   "metadata": {},
   "source": [
    "Set Hypothesis\n",
    "\n",
    "H0: Average assessed home value is the same for each county.\n",
    "\n",
    "Ha: Average assessed home value is not the same for each county."
   ]
  },
  {
   "cell_type": "code",
   "execution_count": null,
   "id": "8de7398e",
   "metadata": {},
   "outputs": [],
   "source": [
    "print(f'Mean appraised value for Los Angeles County: ${la_assessed_value.mean():.2f}')\n",
    "print(f'Mean appraised value for Orange County: ${o_assessed_value.mean():.2f}')\n",
    "print(f'Mean appraised value for Ventura County: ${v_assessed_value.mean():.2f}')"
   ]
  },
  {
   "cell_type": "code",
   "execution_count": null,
   "id": "5d85971a",
   "metadata": {},
   "outputs": [],
   "source": [
    "stat, p = stats.mannwhitneyu(la_assessed_value, o_assessed_value, alternative = 'two-sided')\n",
    "print(f'Mann-Whitney results for Los Angeles and Orange counties:\\nTest Statistic: {stat:.2f}\\nP-Value: {p:.2f}')"
   ]
  },
  {
   "cell_type": "code",
   "execution_count": null,
   "id": "f0782ea1",
   "metadata": {},
   "outputs": [],
   "source": [
    "stat, p = stats.mannwhitneyu(la_assessed_value, v_assessed_value, alternative = 'two-sided')\n",
    "print(f'Mann-Whitney results for Los Angeles and Ventura counties:\\nTest Statistic: {stat:.2f}\\nP-Value: {p:.2f}')"
   ]
  },
  {
   "cell_type": "code",
   "execution_count": null,
   "id": "36f75809",
   "metadata": {},
   "outputs": [],
   "source": [
    "stat, p = stats.mannwhitneyu(o_assessed_value, v_assessed_value, alternative = 'two-sided')\n",
    "print(f'Mann-Whitney results for Orange and Ventura counties:\\nTest Statistic: {stat:.2f}\\nP-Value: {p:.2f}')"
   ]
  },
  {
   "cell_type": "code",
   "execution_count": null,
   "id": "5fd9e8a4",
   "metadata": {},
   "outputs": [],
   "source": [
    "# takeaways:\n",
    "    # since all three p-values generated are less than the set alpha value of 0.05, we can \n",
    "    # reject the null hypothesis that average assessed home is the same among the three \n",
    "    # counties."
   ]
  },
  {
   "cell_type": "code",
   "execution_count": 6,
   "id": "ebfc5b3a",
   "metadata": {
    "scrolled": false
   },
   "outputs": [],
   "source": [
    "#Modeling\n",
    "# baseline\n",
    "baseline = wrangle.zillow_data()\n",
    "baseline = wrangle.wrangle_zillow(baseline)\n",
    "baseline['pred_mean'] = baseline.assessed_tax_value.mean()\n",
    "baseline['pred_median'] = baseline.assessed_tax_value.median()"
   ]
  },
  {
   "cell_type": "code",
   "execution_count": 7,
   "id": "35e227ab",
   "metadata": {},
   "outputs": [],
   "source": [
    "# split baseline dataset into train, validate, test\n",
    "b_train_and_validate, b_test = train_test_split(baseline, random_state = 123)\n",
    "b_train, b_validate = train_test_split(b_train_and_validate)\n",
    "\n",
    "target = \"assessed_tax_value\"\n",
    "\n",
    "# split train into X (dataframe, drop target) & y (series, keep target only)\n",
    "b_X_train = b_train.drop(columns = [target])\n",
    "b_y_train = b_train[target]\n",
    "\n",
    "# split validate into X (dataframe, drop target) & y (series, keep target only)\n",
    "b_X_validate = b_validate.drop(columns = [target])\n",
    "b_y_validate = b_validate[target]\n",
    "\n",
    "# split test into X (dataframe, drop target) & y (series, keep target only)\n",
    "b_X_test = b_test.drop(columns = [target])\n",
    "b_y_test = b_test[target]"
   ]
  },
  {
   "cell_type": "code",
   "execution_count": 8,
   "id": "b6a04e90",
   "metadata": {},
   "outputs": [
    {
     "name": "stdout",
     "output_type": "stream",
     "text": [
      "RMSE using Mean\n",
      "Train/In-Sample:  387000.9 \n",
      "Validate/Out-of-Sample:  386660.3\n",
      "RMSE using Median\n",
      "Train/In-Sample:  397489.54 \n",
      "Validate/Out-of-Sample:  397760.19\n"
     ]
    }
   ],
   "source": [
    "# convert y train and validate into dataframes\n",
    "b_y_train = pd.DataFrame(b_y_train)\n",
    "b_y_validate = pd.DataFrame(b_y_validate)\n",
    "\n",
    "# 1. calculate mean\n",
    "b_pred_mean = b_y_train['assessed_tax_value'].mean()\n",
    "b_y_train['pred_mean'] = b_pred_mean\n",
    "b_y_validate['pred_mean'] = b_pred_mean\n",
    "\n",
    "# 2. calculate median\n",
    "b_pred_median = b_y_train['assessed_tax_value'].median()\n",
    "b_y_train['pred_median'] = b_pred_median\n",
    "b_y_validate['pred_median'] = b_pred_median\n",
    "\n",
    "# 3. RMSE of mean\n",
    "rmse_train = mean_squared_error(b_y_train.assessed_tax_value, b_y_train.pred_mean)**(1/2)\n",
    "rmse_validate = mean_squared_error(b_y_validate.assessed_tax_value, b_y_validate.pred_mean)**(1/2)\n",
    "\n",
    "print(\"RMSE using Mean\\nTrain/In-Sample: \", round(rmse_train, 2), \n",
    "      \"\\nValidate/Out-of-Sample: \", round(rmse_validate, 2))\n",
    "\n",
    "# 4. RMSE of median\n",
    "rmse_train = mean_squared_error(b_y_train.assessed_tax_value, b_y_train.pred_median)**(1/2)\n",
    "rmse_validate = mean_squared_error(b_y_validate.assessed_tax_value, b_y_validate.pred_median)**(1/2)\n",
    "\n",
    "print(\"RMSE using Median\\nTrain/In-Sample: \", round(rmse_train, 2), \n",
    "      \"\\nValidate/Out-of-Sample: \", round(rmse_validate, 2))"
   ]
  },
  {
   "cell_type": "code",
   "execution_count": 61,
   "id": "873369c3",
   "metadata": {},
   "outputs": [],
   "source": [
    "# regression\n",
    "# feature selection\n",
    "train_scaled, validate_scaled, test_scaled = wrangle.standard_scaler_tvt(train, validate, test)"
   ]
  },
  {
   "cell_type": "code",
   "execution_count": 62,
   "id": "2d0fc5d5",
   "metadata": {},
   "outputs": [],
   "source": [
    "target = \"assessed_tax_value\"\n",
    "\n",
    "# split train into X (dataframe, drop target) & y (series, keep target only)\n",
    "X_train_scaled = train_scaled.drop(columns = [target])\n",
    "y_train = train[target]\n",
    "y_train_scaled = train_scaled[target]\n",
    "\n",
    "# split validate into X (dataframe, drop target) & y (series, keep target only)\n",
    "X_validate_scaled = validate_scaled.drop(columns = [target])\n",
    "y_validate = validate[target]\n",
    "y_validate_scaled = validate_scaled[target]\n",
    "\n",
    "# split test into X (dataframe, drop target) & y (series, keep target only)\n",
    "X_test_scaled = test_scaled.drop(columns = [target])\n",
    "y_test = test[target]\n",
    "y_test_validate = test_scaled[target]"
   ]
  },
  {
   "cell_type": "code",
   "execution_count": 63,
   "id": "2a00c664",
   "metadata": {},
   "outputs": [
    {
     "name": "stdout",
     "output_type": "stream",
     "text": [
      "The best feature is:  ['comb_sq_ft']\n"
     ]
    }
   ],
   "source": [
    "lrm = LinearRegression()\n",
    "rfe = RFE(lrm, n_features_to_select = 1)\n",
    "\n",
    "rfe.fit(X_train_scaled, y_train_scaled)\n",
    "\n",
    "rfe_columns = X_train_scaled.columns[rfe.support_].tolist()\n",
    "print('The best feature is: ', rfe_columns)"
   ]
  },
  {
   "cell_type": "code",
   "execution_count": 64,
   "id": "a76e1783",
   "metadata": {
    "scrolled": true
   },
   "outputs": [
    {
     "data": {
      "text/html": [
       "<div>\n",
       "<style scoped>\n",
       "    .dataframe tbody tr th:only-of-type {\n",
       "        vertical-align: middle;\n",
       "    }\n",
       "\n",
       "    .dataframe tbody tr th {\n",
       "        vertical-align: top;\n",
       "    }\n",
       "\n",
       "    .dataframe thead th {\n",
       "        text-align: right;\n",
       "    }\n",
       "</style>\n",
       "<table border=\"1\" class=\"dataframe\">\n",
       "  <thead>\n",
       "    <tr style=\"text-align: right;\">\n",
       "      <th></th>\n",
       "      <th>Var</th>\n",
       "      <th>Rank</th>\n",
       "    </tr>\n",
       "  </thead>\n",
       "  <tbody>\n",
       "    <tr>\n",
       "      <th>6</th>\n",
       "      <td>comb_sq_ft</td>\n",
       "      <td>1</td>\n",
       "    </tr>\n",
       "    <tr>\n",
       "      <th>1</th>\n",
       "      <td>bathroom_cnt</td>\n",
       "      <td>2</td>\n",
       "    </tr>\n",
       "    <tr>\n",
       "      <th>0</th>\n",
       "      <td>bedroom_cnt</td>\n",
       "      <td>3</td>\n",
       "    </tr>\n",
       "    <tr>\n",
       "      <th>4</th>\n",
       "      <td>year_built</td>\n",
       "      <td>4</td>\n",
       "    </tr>\n",
       "    <tr>\n",
       "      <th>3</th>\n",
       "      <td>nbr_stories</td>\n",
       "      <td>5</td>\n",
       "    </tr>\n",
       "    <tr>\n",
       "      <th>5</th>\n",
       "      <td>fips</td>\n",
       "      <td>6</td>\n",
       "    </tr>\n",
       "    <tr>\n",
       "      <th>2</th>\n",
       "      <td>pool_cnt</td>\n",
       "      <td>7</td>\n",
       "    </tr>\n",
       "  </tbody>\n",
       "</table>\n",
       "</div>"
      ],
      "text/plain": [
       "            Var  Rank\n",
       "6    comb_sq_ft     1\n",
       "1  bathroom_cnt     2\n",
       "0   bedroom_cnt     3\n",
       "4    year_built     4\n",
       "3   nbr_stories     5\n",
       "5          fips     6\n",
       "2      pool_cnt     7"
      ]
     },
     "execution_count": 64,
     "metadata": {},
     "output_type": "execute_result"
    }
   ],
   "source": [
    "ranks = wrangle.show_features_rankings(X_train_scaled, rfe)\n",
    "ranks"
   ]
  },
  {
   "cell_type": "code",
   "execution_count": 59,
   "id": "882a92dc",
   "metadata": {},
   "outputs": [],
   "source": [
    "# after going through removing the least effective features, I noticed that the model\n",
    "# performed better if the features weren't removed."
   ]
  },
  {
   "cell_type": "code",
   "execution_count": 72,
   "id": "55fd4a13",
   "metadata": {},
   "outputs": [
    {
     "name": "stdout",
     "output_type": "stream",
     "text": [
      "RMSE for OLS using LinearRegression\n",
      "Training/In-Sample:  315917.037821533 \n",
      "Validation/Out-of-Sample:  319015.3594351313\n"
     ]
    }
   ],
   "source": [
    "# OLS\n",
    "\n",
    "y_train = pd.DataFrame(y_train)\n",
    "y_validate = pd.DataFrame(y_validate)\n",
    "\n",
    "ols = LinearRegression(normalize = True)\n",
    "\n",
    "ols.fit(X_train_scaled, y_train.assessed_tax_value)\n",
    "\n",
    "y_train['pred_ols'] = ols.predict(X_train_scaled)\n",
    "\n",
    "# evaluate: rmse\n",
    "rmse_train = mean_squared_error(y_train.assessed_tax_value, y_train.pred_ols)**(1/2)\n",
    "\n",
    "# predict validate\n",
    "y_validate['pred_ols'] = ols.predict(X_validate_scaled)\n",
    "\n",
    "# evaluate: rmse\n",
    "rmse_validate = mean_squared_error(y_validate.assessed_tax_value, y_validate.pred_ols)**(1/2)\n",
    "\n",
    "print(\"RMSE for OLS using LinearRegression\\nTraining/In-Sample: \", rmse_train, \n",
    "      \"\\nValidation/Out-of-Sample: \", rmse_validate)"
   ]
  },
  {
   "cell_type": "code",
   "execution_count": 73,
   "id": "ee25bf5d",
   "metadata": {},
   "outputs": [
    {
     "name": "stdout",
     "output_type": "stream",
     "text": [
      "RMSE for Lasso + Lars\n",
      "Training/In-Sample:  315917.57175075053 \n",
      "Validation/Out-of-Sample:  319013.56465494237\n"
     ]
    }
   ],
   "source": [
    "# lassolars\n",
    "\n",
    "lasso = LassoLars(alpha = 1.0)\n",
    "\n",
    "lasso.fit(X_train_scaled, y_train.assessed_tax_value)\n",
    "\n",
    "y_train['pred_lasso'] = lasso.predict(X_train_scaled)\n",
    "\n",
    "rmse_train = mean_squared_error(y_train.assessed_tax_value, y_train.pred_lasso)**(1/2)\n",
    "\n",
    "y_validate['pred_lasso'] = lasso.predict(X_validate_scaled)\n",
    "\n",
    "rmse_validate = mean_squared_error(y_validate.assessed_tax_value, y_validate.pred_lasso)**(1/2)\n",
    "\n",
    "print(\"RMSE for Lasso + Lars\\nTraining/In-Sample: \", rmse_train, \n",
    "      \"\\nValidation/Out-of-Sample: \", rmse_validate)"
   ]
  },
  {
   "cell_type": "code",
   "execution_count": 82,
   "id": "a814e4d8",
   "metadata": {},
   "outputs": [
    {
     "name": "stdout",
     "output_type": "stream",
     "text": [
      "RMSE for Polynomial Model, degrees=2\n",
      "Training/In-Sample:  311285.7081004249 \n",
      "Validation/Out-of-Sample:  315254.6820619175\n"
     ]
    }
   ],
   "source": [
    "# polynomial\n",
    "\n",
    "pf = PolynomialFeatures(degree = 2)\n",
    "\n",
    "X_train_degree2 = pf.fit_transform(X_train_scaled)\n",
    "\n",
    "X_validate_degree2 = pf.transform(X_validate_scaled)\n",
    "\n",
    "X_test_degree2 = pf.transform(X_test_scaled)\n",
    "\n",
    "lm2 = LinearRegression(normalize = True)\n",
    "\n",
    "lm2.fit(X_train_degree2, y_train.assessed_tax_value)\n",
    "\n",
    "y_train['pred_lm2'] = lm2.predict(X_train_degree2)\n",
    "\n",
    "rmse_train = mean_squared_error(y_train.assessed_tax_value, y_train.pred_lm2)**(1/2)\n",
    "\n",
    "y_validate['pred_lm2'] = lm2.predict(X_validate_degree2)\n",
    "\n",
    "rmse_validate = mean_squared_error(y_validate.assessed_tax_value, y_validate.pred_lm2)**(1/2)\n",
    "\n",
    "print(\"RMSE for Polynomial Model, degrees=2\\nTraining/In-Sample: \", rmse_train, \n",
    "      \"\\nValidation/Out-of-Sample: \", rmse_validate)"
   ]
  },
  {
   "cell_type": "code",
   "execution_count": null,
   "id": "5fcd0771",
   "metadata": {},
   "outputs": [],
   "source": [
    "# the best performing model is the polynomial model. let's go ahead and apply it to the test\n",
    "# dataset."
   ]
  },
  {
   "cell_type": "code",
   "execution_count": 83,
   "id": "3a2f440d",
   "metadata": {},
   "outputs": [
    {
     "name": "stdout",
     "output_type": "stream",
     "text": [
      "RMSE for Polynomial Model, degrees=2\n",
      "Test Sample:  308440.1255669655\n"
     ]
    }
   ],
   "source": [
    "y_test = pd.DataFrame(y_test)\n",
    "\n",
    "pf = PolynomialFeatures(degree = 2)\n",
    "\n",
    "lm2 = LinearRegression(normalize = True)\n",
    "\n",
    "lm2.fit(X_test_degree2, y_test.assessed_tax_value)\n",
    "\n",
    "y_test['pred_lm2'] = lm2.predict(X_test_degree2)\n",
    "\n",
    "rmse_test = mean_squared_error(y_test.assessed_tax_value, y_test.pred_lm2)**(1/2)\n",
    "\n",
    "print(\"RMSE for Polynomial Model, degrees=2\\nTest Sample: \", rmse_test)"
   ]
  },
  {
   "cell_type": "code",
   "execution_count": 86,
   "id": "39353bef",
   "metadata": {},
   "outputs": [
    {
     "data": {
      "image/png": "[encoded data removed]",
      "text/plain": [
       "<Figure size 1152x576 with 1 Axes>"
      ]
     },
     "metadata": {
      "needs_background": "light"
     },
     "output_type": "display_data"
    }
   ],
   "source": [
    "plt.figure(figsize = (16,8))\n",
    "plt.plot(b_y_validate.assessed_tax_value, b_y_validate.pred_mean, alpha = .5, color = \"gray\", label = '_nolegend_')\n",
    "plt.annotate(\"Baseline: Predict Using Mean\", (16, 9.5))\n",
    "plt.plot(y_validate.assessed_tax_value, y_validate.assessed_tax_value, alpha = .5, color = \"blue\", label = '_nolegend_')\n",
    "plt.annotate(\"The Ideal Line: Predicted = Actual\", (.5, 3.5), rotation = 15.5)\n",
    "\n",
    "#plt.scatter(y_validate.assessed_tax_value, y_validate.G3_pred_lm, \n",
    "#            alpha = .5, color = \"red\", s = 100, label = \"Model: LinearRegression\")\n",
    "#plt.scatter(y_validate.assessed_tax_value, y_validate.G3_pred_glm, \n",
    "#            alpha = .5, color = \"yellow\", s = 100, label = \"Model: TweedieRegressor\")\n",
    "plt.scatter(y_test.assessed_tax_value, y_test.pred_lm2, \n",
    "            alpha = .5, color = \"green\", s = 100, label = \"Model 2nd degree Polynomial\")\n",
    "plt.legend()\n",
    "plt.xlabel(\"Actual Assessed Value\")\n",
    "plt.ylabel(\"Predicted Assessed Value\")\n",
    "#plt.title(\"Where are predictions more extreme? More modest?\")\n",
    "# plt.annotate(\"The polynomial model appears to overreact to noise\", (2.0, -10))\n",
    "# plt.annotate(\"The OLS model (LinearRegression)\\n appears to be most consistent\", (15.5, 3))\n",
    "plt.show()"
   ]
  },
  {
   "cell_type": "code",
   "execution_count": null,
   "id": "21dd7d20",
   "metadata": {},
   "outputs": [],
   "source": [
    "# Conclusion & Recommendations\n",
    "    #"
   ]
  }
 ],
 "metadata": {
  "kernelspec": {
   "display_name": "Python 3 (ipykernel)",
   "language": "python",
   "name": "python3"
  },
  "language_info": {
   "codemirror_mode": {
    "name": "ipython",
    "version": 3
   },
   "file_extension": ".py",
   "mimetype": "text/x-python",
   "name": "python",
   "nbconvert_exporter": "python",
   "pygments_lexer": "ipython3",
   "version": "3.7.3"
  }
 },
 "nbformat": 4,
 "nbformat_minor": 5
}
